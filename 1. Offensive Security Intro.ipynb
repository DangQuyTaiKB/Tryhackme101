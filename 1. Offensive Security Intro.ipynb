{
 "cells": [
  {
   "cell_type": "markdown",
   "metadata": {},
   "source": [
    "# 1. Offensive Security Intro\n",
    "Hack your first website (legally in a safe environment) and experience an ethical hacker's job."
   ]
  },
  {
   "cell_type": "markdown",
   "metadata": {},
   "source": [
    "## Task 1: What is Offensive Security?\n",
    "Which of the following options better represents the process where you simulate a hacker's actions to find vulnerabilities in a system?\n",
    "\n",
    "- Offensive Security\n",
    "- Defensive Security\n",
    "\n",
    "Answer: Offensive Security\n"
   ]
  },
  {
   "cell_type": "markdown",
   "metadata": {},
   "source": [
    "## Task 2: Hacking your first machine\n",
    "#### Step 2. Use Gobuster To Find Hidden Website Pages\n",
    "- Open terminal from the right side of the machine and type in command: “gobuster -u http://fakebank.com -w wordlist.txt dir” in the terminal and hit “Enter”.\n",
    "> “gobuster” — Name of Command-Line Application or Utility we are using to brute-force the website and find out its hidden web-pages.\n",
    "> - gobuster -u http://fakebank.thm -w wordlist.txt dir\n",
    "\n",
    "> “-u” — Tag being used to set “http://fakebank.com” as target for the utility.\n",
    ">- Tag — All the characters or words before which we have “-”, are called as tags in the command. Tags are usually used to provide arguments to the utility.  \n",
    ">- You can get a list of these tags for each utility by providing command “[Utility name] -h” in the terminal where “-h” usually stands for “help”.\n",
    "\n",
    "> “-w” — Tag being used to set “wordlist.txt” as wordlist for the utility.\n",
    "> - Wordlist — Wordlist is literally a list of words. Wordlists are usually used in scenarios where we have multiple possible options and the only option to get right answers is hit-and-trial method. A few scenarios can be brute-forcing a password, brute-forcing the directory (as in this task), dictionary attack, etc.\n",
    "> - rockyou.txt is a famous wordlist for password cracking. It comes with many other wordlists, built-in in Kali Linux.\n",
    "\n",
    "- “dir” — stands for “directory”. Directory in Linux is same as Folder in Windows.\n",
    "\n",
    "<img src=\"images/Offensive Security Intro/task_2_img1.png\" alt=\"Task 2 Directory\" style=\"width: 30%; height: 50%;\" />    \n",
    "\n",
    "\n",
    "#### Step 3. Hack The Bank\n",
    "Execution of command shows we got two web-pages in the result of the operation we just performed i.e. /images and /bank-transfer. Let’s hop over these newly discovered web-pages by entering there URLs in the browser of the machine.\n",
    "P.S.: Web-pages we just discovered will be appended ahead of the main URL i.e. http://fakebank.com as http://fakebank.com/images and http://fakebank.com/bank-transfer.\n",
    "\n",
    "Whereas http://fakebank.com/bank-transfer hosts the “Admin Portal” for the bank site. This can be used to transfer the amount from one account to another. As we are tasked to transfer $2000 from the bank account 2276, to our account (account number 8881), thus this page would be of our ultimate use.\n",
    "Fill in the details as required by the task and click over “Send Money”.\n",
    "\n",
    "Once you’ll hit “Send Money”, you’ll be shown “Success, transfer complete” message with the particular details of the transaction you just performed.\n",
    "Hit “Return to Your Account” to find the answer of the first question in this task i.e. BANK-HACKED.\n",
    "Above your account balance, you should now see a message indicating the answer to this question. Can you find the answer you need?\n",
    "Flag: BANK-HACKED\n",
    "\n",
    "<img src=\"images/Offensive Security Intro/task_2_img3.png\" alt=\"Task 2 Directory\" style=\"width: 30%; height: 50%;\" />    "
   ]
  },
  {
   "cell_type": "markdown",
   "metadata": {},
   "source": []
  },
  {
   "cell_type": "markdown",
   "metadata": {},
   "source": [
    "# Task 3: Careers in Cyber Security\n",
    "\n",
    "The cyber careers room goes into more depth about the different careers in cyber. However, here is a short description of a few offensive security roles:\n",
    "\n",
    "- Penetration Tester - Responsible for testing technology products for finding exploitable security vulnerabilities.\n",
    "- Red Teamer - Plays the role of an adversary, attacking an organization and providing feedback from an enemy's perspective.\n",
    "- Security Engineer - Design, monitor, and maintain security controls, networks, and systems to help prevent cyberattacks."
   ]
  }
 ],
 "metadata": {
  "kernelspec": {
   "display_name": "Python 3",
   "language": "python",
   "name": "python3"
  },
  "language_info": {
   "name": "python",
   "version": "3.9.2"
  }
 },
 "nbformat": 4,
 "nbformat_minor": 2
}
