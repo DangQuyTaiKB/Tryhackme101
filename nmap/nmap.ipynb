{
 "cells": [
  {
   "cell_type": "markdown",
   "metadata": {},
   "source": [
    "# 4. Reconnaissance Tasks\n",
    "This chapter covers the following recipes:\n",
    "- Performing IP address geolocation\n",
    "- Getting information from WHOIS records\n",
    "- Obtaining traceroute geolocation information\n",
    "- Querying Shodan to obtain target information\n",
    "- Collecting valid email accounts and IP addresses from web servers\n",
    "- Discovering hostnames pointing to the same IP address\n",
    "- Discovering hostnames by brute-forcing DNS records\n",
    "- Matching services with public vulnerability advisories and picking the low-hanging fruit"
   ]
  },
  {
   "cell_type": "markdown",
   "metadata": {},
   "source": [
    "## Performing IP address geolocation\n",
    "Identifying the location of an IP address may help system administrators or threat intelligence analysts identify the origin of a network connection. Nmap ships with several NSE scripts that help us perform geolocation of a remote IP address: ip-geolocation maxmind, ip-geolocation-ipinfodb, ip-geolocation-geoplugin, ip-geolocation-map-bing, ip-geolocation-map-google, and ip-geolocation-map-kml. \n",
    "This recipe will show you how to set up and use the geolocation scripts included with NSE.\n",
    "\n",
    "### Getting ready\n",
    "- From the scripts mentioned previously, only ip-geolocation-geoplugin does not require an API key. The ip-geolocation-maxmind script depends on a database that is not included in Nmap by default. Sign up and download Maxmind's GeoLite City database from http://dev.maxmind.com/geoip/legacy/geolite/ and place it in your local Nmap data folder (/nselib/data/). Note that the database format has changed, and it is no longer a plaintext .dat file. To use the new format (mmdb) you must convert it using the geolite2legacy.py Python script found at https://github.com/sherpya/geolite2legacy or download a non-official legacy database from https://www.miyuru.lk/geoiplegacy. \n",
    "- The ip-geolocation-ipinfodb script requires an API key to query its external service. The service is free, and you only need to register at http://ipinfodb.com/ register.php to get one. This service does not limit the number of queries, but connections are only processed from one IP address that you need to register during the signup process.\n",
    "\n",
    "### How to do it...\n",
    "\n",
    "1. Open a terminal and enter the following command:\n",
    "$nmap -sn --script ip-geolocation-* <target>\n",
    "2. For example, let's locate the IP address that resolves scanme.nmap.org:\n",
    "$nmap -sn --script ip-geolocation-* scanme.nmap.org\n",
    "3. The geolocation information available in the databases will be displayed for each of the targets:\n",
    "\n",
    "<img src=\"../images/nmap/00_nmap.png\" alt=\"Nmap\" style = \"width: 600px; height: 320px;\"/>\n",
    "\n",
    "### How it works...\n",
    "- The --script ip-geolocation-* options initialize all scripts starting with the file name pattern of ip-geolocation-. At the moment, there are three scripts available to geolocate IP addresses:\n",
    "    - ip-geolocation-geoplugin \n",
    "    - ip-geolocation-maxmind \n",
    "    - ip-geolocation-ipinfodb \n",
    "- The service providers will not return information about certain IP addresses, so it is recommended to use them all and compare the results. The information returned by these scripts includes at least the latitude and longitude coordinates and other fields such as country, state, and city when available.\n",
    "- The ip-geolocation-geoplugin NSE script works by querying a free public service. Consider the number of queries you need to send and be considerate; otherwise, the provider will restrict the service as other providers have done in the past.\n",
    "- It is a common misconception that IP-to-geolocation services provide a 100% accurate location of the computer or device. The location accuracy heavily depends on the database, and each service provider may have used different methods of collecting data. Keep it in mind when interpreting results from external providers.\n",
    "\n",
    "- **Mapping geolocation markers**: \n",
    "    - The ip-geolocation-map-* scripts can be used for generating graphical representations of the markers obtained by the previous scripts. Similarly, they require API keys that are free but require signing up to get hold of. Consider using them to view and interpret results easily. After all, most of us are already familiar with Google Maps or Bing.\n",
    "\n",
    "\n",
    "- **Submitting a new geolocation provider**: \n",
    "    - If you know a better IP-to-geolocation provider, don't hesitate in submitting your geolocation script to the official mailing list. Don't forget to document if the script requires an external API or database. If you know an excellent service but do not have experience developing scripts, you may add your idea to the NSE script wish list located at https://secwiki.org/w/Nmap/Script_Ideas."
   ]
  },
  {
   "cell_type": "markdown",
   "metadata": {},
   "source": [
    "## Getting information from WHOIS records\n",
    "WHOIS records contain useful information, such as the registrar/organization name, creation and expiration dates, geographical location, and abuse contact information among some potentially interesting fields. System administrators, IT staff, and other security professionals have been using WHOIS records for years now, and although there are many tools and websites available to query this information, Nmap can process IP ranges/target lists in many formats to perform this task in batch. \n",
    "This recipe will show you how to retrieve the WHOIS records of an IP address or domain name with Nmap.\n",
    "\n",
    "### How to do it...\n",
    "1. Open a terminal and enter the following command:\n",
    "$nmap -sn --script whois-* <target>\n",
    "- Example:\n",
    "$nmap -sn --script whois-* scanme.nmap.org\n",
    "\n",
    "<img src=\"../images/nmap/01_nmap.png\" alt=\"Nmap\" style = \"width: 600px; height: 320px;\"/>\n",
    "\n"
   ]
  },
  {
   "cell_type": "markdown",
   "metadata": {},
   "source": []
  },
  {
   "cell_type": "markdown",
   "metadata": {},
   "source": []
  },
  {
   "cell_type": "markdown",
   "metadata": {},
   "source": [
    "- Bước 1: chạy XAMPP\n",
    "- Bước 2: chạy DVWA\n",
    "    - target: 160.216.223.81\n",
    "    - đây là target của thầy, mình đã cắm dây mạng vào ổ mạng chung do vậy mình sẽ dùng target này để tiến hành các bước tiếp theo\n",
    "\n",
    "- Bước 3: chạy nmap\n",
    "    - target: 160.216.223.81\n",
    "\n",
    "\n",
    "- Câu lệnh này sử dụng nmap để quét các cổng 139 và 455 trên mục tiêu 160.216.223.121\n",
    "- và sử dụng script smb-os-discovery để phát hiện hệ điều hành của mục tiêu.\n",
    "\n",
    "nmap -p 139,455 --script smb-os-discovery 160.216.223.81\n",
    "\n",
    "nmap -p137,139,445 --script smb-security-mode 160.216.223.81\n",
    "\n",
    "nmap -p80,443 --script http-methods --script-args http-methods.test-all=true 160.216.223.81\n",
    "\n",
    "nmap sV--script=http-enum 160.216.223.81\n",
    "\n",
    "nmap -p80 --script http-brute 160.216.223.81\n",
    "\n",
    "nmap -p80 --script=http-form-brute --script-args \"userdb=users.txt,passdb=pass.txt,http-form-brute.path=/dvwa/login.php\" 160.216.223.81\n"
   ]
  }
 ],
 "metadata": {
  "kernelspec": {
   "display_name": "Python 3",
   "language": "python",
   "name": "python3"
  },
  "language_info": {
   "codemirror_mode": {
    "name": "ipython",
    "version": 3
   },
   "file_extension": ".py",
   "mimetype": "text/x-python",
   "name": "python",
   "nbconvert_exporter": "python",
   "pygments_lexer": "ipython3",
   "version": "3.9.2"
  }
 },
 "nbformat": 4,
 "nbformat_minor": 2
}
